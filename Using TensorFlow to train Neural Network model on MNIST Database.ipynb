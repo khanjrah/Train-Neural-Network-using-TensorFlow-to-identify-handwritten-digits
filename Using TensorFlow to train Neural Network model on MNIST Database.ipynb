{
  "cells": [
    {
      "metadata": {
        "trusted": true
      },
      "cell_type": "code",
      "source": "import numpy as np\nimport matplotlib.pyplot as plt\nimport pandas as pd\n\n",
      "execution_count": 1,
      "outputs": []
    },
    {
      "metadata": {
        "trusted": true
      },
      "cell_type": "code",
      "source": "import tensorflow as tf\n#Sets the threshold for what messages will be logged.\nold_v = tf.logging.get_verbosity()\n# able to set the logging verbosity to either DEBUG, INFO, WARN, ERROR, or FATAL. Here its ERROR\ntf.logging.set_verbosity(tf.logging.ERROR)\nfrom tensorflow.examples.tutorials.mnist import input_data\nmnist = input_data.read_data_sets(\"/tmp/data/\", one_hot = True)\n#in the end\ntf.logging.set_verbosity(old_v)\n",
      "execution_count": 2,
      "outputs": [
        {
          "output_type": "stream",
          "text": "Successfully downloaded train-images-idx3-ubyte.gz 9912422 bytes.\nExtracting /tmp/data/train-images-idx3-ubyte.gz\nSuccessfully downloaded train-labels-idx1-ubyte.gz 28881 bytes.\nExtracting /tmp/data/train-labels-idx1-ubyte.gz\nSuccessfully downloaded t10k-images-idx3-ubyte.gz 1648877 bytes.\nExtracting /tmp/data/t10k-images-idx3-ubyte.gz\nSuccessfully downloaded t10k-labels-idx1-ubyte.gz 4542 bytes.\nExtracting /tmp/data/t10k-labels-idx1-ubyte.gz\n",
          "name": "stdout"
        }
      ]
    },
    {
      "metadata": {
        "trusted": true
      },
      "cell_type": "code",
      "source": "plt.imshow(np.reshape(mnist.train.images[8],[28,28]),cmap='gray')\nplt.show()",
      "execution_count": 3,
      "outputs": [
        {
          "output_type": "display_data",
          "data": {
            "image/png": "[encoded data removed]",
            "text/plain": "<Figure size 432x288 with 1 Axes>"
          },
          "metadata": {
            "needs_background": "light"
          }
        }
      ]
    },
    {
      "metadata": {
        "trusted": true
      },
      "cell_type": "code",
      "source": "#parameters\nlearning_rate = 0.1\nnum_steps = 500\nbatch_size = 128\ndisplay_step = 100",
      "execution_count": 4,
      "outputs": []
    },
    {
      "metadata": {
        "trusted": true
      },
      "cell_type": "code",
      "source": "#network parameters\nn_hidden_1 = 10 # 1st hidden layer, number of neurons\nn_hidden_2 = 10 # 2nd hidden layer,number of neurons\nnum_input = 784 # input size of 784 since image is of size 28x28 which equals 784\nnum_classes = 10 # total classes (0-9 digits)\n #tf graph input\nX = tf.placeholder (\"float\",[None,num_input])\ny = tf.placeholder(\"float\",[None,num_classes])\n\n    \n\n\n",
      "execution_count": 5,
      "outputs": []
    },
    {
      "metadata": {
        "trusted": true
      },
      "cell_type": "code",
      "source": "# Store Layer weights & Bias\nweights = {\n    'h1': tf.Variable(tf.random_normal([num_input,n_hidden_1])),\n    'h2': tf.Variable(tf.random_normal([n_hidden_1,n_hidden_2])),\n    'out': tf.Variable(tf.random_normal([n_hidden_2,num_classes]))\n    }\nbiases = {\n    'b1':tf.Variable(tf.random_normal([n_hidden_1])),\n    'b2':tf.Variable(tf.random_normal([n_hidden_2])),\n    'out':tf.Variable(tf.random_normal([num_classes]))\n}",
      "execution_count": 6,
      "outputs": []
    },
    {
      "metadata": {
        "trusted": true
      },
      "cell_type": "code",
      "source": "def neural_net(x):\n    #fully connected hidden layer with 10 neurons\n    layer_1 = tf.add(tf.matmul(x,weights['h1']),biases['b1'])\n    #fully connected hidden layer with 10 neurons\n    layer_2 = tf.add(tf.matmul(layer_1,weights['h2']),biases['b2'])\n    #fully connected output layer with a neuron for each class(0-9)\n    out_layer = tf.matmul(layer_2,weights['out']) + biases['out']\n    return out_layer",
      "execution_count": 7,
      "outputs": []
    },
    {
      "metadata": {
        "trusted": true
      },
      "cell_type": "code",
      "source": "logits = neural_net(X)\nloss_op = tf.reduce_mean(tf.nn.softmax_cross_entropy_with_logits(logits = logits,labels = y))\noptimizer = tf.train.AdamOptimizer(learning_rate = learning_rate)\ntrain_op = optimizer.minimize(loss_op)\n",
      "execution_count": 8,
      "outputs": [
        {
          "output_type": "stream",
          "text": "WARNING:tensorflow:From <ipython-input-8-5fd3734e9b02>:2: softmax_cross_entropy_with_logits (from tensorflow.python.ops.nn_ops) is deprecated and will be removed in a future version.\nInstructions for updating:\n\nFuture major versions of TensorFlow will allow gradients to flow\ninto the labels input on backprop by default.\n\nSee `tf.nn.softmax_cross_entropy_with_logits_v2`.\n\n",
          "name": "stdout"
        }
      ]
    },
    {
      "metadata": {
        "trusted": true
      },
      "cell_type": "code",
      "source": "# Evaluate Model \ncorrect_pred = tf.equal(tf.argmax(logits,1),tf.argmax(y,1))\naccuracy = tf.reduce_mean(tf.cast(correct_pred,tf.float32))",
      "execution_count": 9,
      "outputs": []
    },
    {
      "metadata": {
        "trusted": true
      },
      "cell_type": "code",
      "source": "#Initialize the Variables\ninit = tf.global_variables_initializer()",
      "execution_count": 10,
      "outputs": []
    },
    {
      "metadata": {
        "trusted": true
      },
      "cell_type": "code",
      "source": "#start training\nwith tf.Session() as sess:\n    #run the initializer\n    sess.run(init)\n    \n    for step in range(1,num_steps +1):\n        batch_x,batch_y = mnist.train.next_batch(batch_size)\n        sess.run(train_op,feed_dict = {X:batch_x,y:batch_y})\n        if step %display_step  == 0 or step == 1:\n            #Calculate batch loss and accuracy\n            loss,acc = sess.run([loss_op,accuracy],feed_dict= {X:batch_x,y:batch_y})\n            print(\"Step\" +str(step) + \",Minibatch Loss=\" \"{:.4f}\".format(loss) +\",Training Accuracy=\" \"{:.3f}\".format(acc))\n        print(\"Optimization Finished!\")\n        print(\"Testing Accuracy:\",sess.run(accuracy,feed_dict={X:mnist.test.images,y:mnist.test.labels}))\n        \n        ",
      "execution_count": 17,
      "outputs": [
        {
          "output_type": "stream",
          "text": "Step1,Minibatch Loss=116.1788,Training Accuracy=0.164\nOptimization Finished!\nTesting Accuracy: 0.141\nOptimization Finished!\nTesting Accuracy: 0.1709\nOptimization Finished!\nTesting Accuracy: 0.2785\nOptimization Finished!\nTesting Accuracy: 0.3585\nOptimization Finished!\nTesting Accuracy: 0.349\nOptimization Finished!\nTesting Accuracy: 0.3224\nOptimization Finished!\nTesting Accuracy: 0.3614\nOptimization Finished!\nTesting Accuracy: 0.4437\nOptimization Finished!\nTesting Accuracy: 0.5146\nOptimization Finished!\nTesting Accuracy: 0.4869\nOptimization Finished!\nTesting Accuracy: 0.5221\nOptimization Finished!\nTesting Accuracy: 0.59\nOptimization Finished!\nTesting Accuracy: 0.6097\nOptimization Finished!\nTesting Accuracy: 0.604\nOptimization Finished!\nTesting Accuracy: 0.6119\nOptimization Finished!\nTesting Accuracy: 0.6188\nOptimization Finished!\nTesting Accuracy: 0.6385\nOptimization Finished!\nTesting Accuracy: 0.6597\nOptimization Finished!\nTesting Accuracy: 0.6659\nOptimization Finished!\nTesting Accuracy: 0.6543\nOptimization Finished!\nTesting Accuracy: 0.624\nOptimization Finished!\nTesting Accuracy: 0.6252\nOptimization Finished!\nTesting Accuracy: 0.6587\nOptimization Finished!\nTesting Accuracy: 0.6872\nOptimization Finished!\nTesting Accuracy: 0.6997\nOptimization Finished!\nTesting Accuracy: 0.7058\nOptimization Finished!\nTesting Accuracy: 0.7027\nOptimization Finished!\nTesting Accuracy: 0.7102\nOptimization Finished!\nTesting Accuracy: 0.7241\nOptimization Finished!\nTesting Accuracy: 0.7447\nOptimization Finished!\nTesting Accuracy: 0.7439\nOptimization Finished!\nTesting Accuracy: 0.7217\nOptimization Finished!\nTesting Accuracy: 0.7047\nOptimization Finished!\nTesting Accuracy: 0.6982\nOptimization Finished!\nTesting Accuracy: 0.7045\nOptimization Finished!\nTesting Accuracy: 0.6885\nOptimization Finished!\nTesting Accuracy: 0.6998\nOptimization Finished!\nTesting Accuracy: 0.7328\nOptimization Finished!\nTesting Accuracy: 0.7292\nOptimization Finished!\nTesting Accuracy: 0.7132\nOptimization Finished!\nTesting Accuracy: 0.7085\nOptimization Finished!\nTesting Accuracy: 0.7129\nOptimization Finished!\nTesting Accuracy: 0.717\nOptimization Finished!\nTesting Accuracy: 0.7339\nOptimization Finished!\nTesting Accuracy: 0.76\nOptimization Finished!\nTesting Accuracy: 0.7567\nOptimization Finished!\nTesting Accuracy: 0.7463\nOptimization Finished!\nTesting Accuracy: 0.7549\nOptimization Finished!\nTesting Accuracy: 0.7621\nOptimization Finished!\nTesting Accuracy: 0.766\nOptimization Finished!\nTesting Accuracy: 0.776\nOptimization Finished!\nTesting Accuracy: 0.7776\nOptimization Finished!\nTesting Accuracy: 0.7758\nOptimization Finished!\nTesting Accuracy: 0.7637\nOptimization Finished!\nTesting Accuracy: 0.7557\nOptimization Finished!\nTesting Accuracy: 0.7686\nOptimization Finished!\nTesting Accuracy: 0.7795\nOptimization Finished!\nTesting Accuracy: 0.7815\nOptimization Finished!\nTesting Accuracy: 0.7786\nOptimization Finished!\nTesting Accuracy: 0.7781\nOptimization Finished!\nTesting Accuracy: 0.7793\nOptimization Finished!\nTesting Accuracy: 0.7808\nOptimization Finished!\nTesting Accuracy: 0.7901\nOptimization Finished!\nTesting Accuracy: 0.7709\nOptimization Finished!\nTesting Accuracy: 0.7686\nOptimization Finished!\nTesting Accuracy: 0.7835\nOptimization Finished!\nTesting Accuracy: 0.797\nOptimization Finished!\nTesting Accuracy: 0.8066\nOptimization Finished!\nTesting Accuracy: 0.8058\nOptimization Finished!\nTesting Accuracy: 0.8022\nOptimization Finished!\nTesting Accuracy: 0.791\nOptimization Finished!\nTesting Accuracy: 0.7742\nOptimization Finished!\nTesting Accuracy: 0.7498\nOptimization Finished!\nTesting Accuracy: 0.7607\nOptimization Finished!\nTesting Accuracy: 0.782\nOptimization Finished!\nTesting Accuracy: 0.7977\nOptimization Finished!\nTesting Accuracy: 0.7999\nOptimization Finished!\nTesting Accuracy: 0.7943\nOptimization Finished!\nTesting Accuracy: 0.7895\nOptimization Finished!\nTesting Accuracy: 0.8003\nOptimization Finished!\nTesting Accuracy: 0.8124\nOptimization Finished!\nTesting Accuracy: 0.8157\nOptimization Finished!\nTesting Accuracy: 0.8095\nOptimization Finished!\nTesting Accuracy: 0.7939\nOptimization Finished!\nTesting Accuracy: 0.7838\nOptimization Finished!\nTesting Accuracy: 0.7823\nOptimization Finished!\nTesting Accuracy: 0.7929\nOptimization Finished!\nTesting Accuracy: 0.7926\nOptimization Finished!\nTesting Accuracy: 0.7786\nOptimization Finished!\nTesting Accuracy: 0.7682\nOptimization Finished!\nTesting Accuracy: 0.7682\nOptimization Finished!\nTesting Accuracy: 0.7725\nOptimization Finished!\nTesting Accuracy: 0.784\nOptimization Finished!\nTesting Accuracy: 0.7852\nOptimization Finished!\nTesting Accuracy: 0.8144\nOptimization Finished!\nTesting Accuracy: 0.8161\nOptimization Finished!\nTesting Accuracy: 0.8049\nOptimization Finished!\nTesting Accuracy: 0.7953\nOptimization Finished!\nTesting Accuracy: 0.7868\nStep100,Minibatch Loss=1.4957,Training Accuracy=0.758\nOptimization Finished!\nTesting Accuracy: 0.7645\nOptimization Finished!\nTesting Accuracy: 0.7787\nOptimization Finished!\nTesting Accuracy: 0.791\nOptimization Finished!\nTesting Accuracy: 0.8009\nOptimization Finished!\nTesting Accuracy: 0.8093\nOptimization Finished!\nTesting Accuracy: 0.8111\nOptimization Finished!\nTesting Accuracy: 0.8153\nOptimization Finished!\nTesting Accuracy: 0.8128\nOptimization Finished!\nTesting Accuracy: 0.8101\nOptimization Finished!\nTesting Accuracy: 0.8063\nOptimization Finished!\nTesting Accuracy: 0.798\nOptimization Finished!\nTesting Accuracy: 0.7997\nOptimization Finished!\nTesting Accuracy: 0.8046\nOptimization Finished!\nTesting Accuracy: 0.8145\nOptimization Finished!\nTesting Accuracy: 0.8187\nOptimization Finished!\nTesting Accuracy: 0.8095\nOptimization Finished!\nTesting Accuracy: 0.8226\nOptimization Finished!\nTesting Accuracy: 0.8113\nOptimization Finished!\nTesting Accuracy: 0.7999\nOptimization Finished!\nTesting Accuracy: 0.8019\nOptimization Finished!\nTesting Accuracy: 0.814\nOptimization Finished!\nTesting Accuracy: 0.8212\nOptimization Finished!\nTesting Accuracy: 0.8174\nOptimization Finished!\nTesting Accuracy: 0.8103\nOptimization Finished!\nTesting Accuracy: 0.8172\nOptimization Finished!\nTesting Accuracy: 0.8066\nOptimization Finished!\nTesting Accuracy: 0.7884\nOptimization Finished!\nTesting Accuracy: 0.7747\nOptimization Finished!\nTesting Accuracy: 0.8178\nOptimization Finished!\nTesting Accuracy: 0.8164\nOptimization Finished!\nTesting Accuracy: 0.792\nOptimization Finished!\nTesting Accuracy: 0.8052\nOptimization Finished!\nTesting Accuracy: 0.8177\nOptimization Finished!\nTesting Accuracy: 0.8107\nOptimization Finished!\nTesting Accuracy: 0.796\nOptimization Finished!\nTesting Accuracy: 0.7872\nOptimization Finished!\nTesting Accuracy: 0.8008\nOptimization Finished!\nTesting Accuracy: 0.829\nOptimization Finished!\nTesting Accuracy: 0.8315\nOptimization Finished!\nTesting Accuracy: 0.8201\nOptimization Finished!\nTesting Accuracy: 0.8235\nOptimization Finished!\nTesting Accuracy: 0.8249\nOptimization Finished!\nTesting Accuracy: 0.828\nOptimization Finished!\nTesting Accuracy: 0.8144\nOptimization Finished!\nTesting Accuracy: 0.8044\nOptimization Finished!\nTesting Accuracy: 0.8089\nOptimization Finished!\nTesting Accuracy: 0.7993\nOptimization Finished!\nTesting Accuracy: 0.7899\nOptimization Finished!\nTesting Accuracy: 0.796\nOptimization Finished!\nTesting Accuracy: 0.8192\nOptimization Finished!\nTesting Accuracy: 0.8316\nOptimization Finished!\nTesting Accuracy: 0.8165\nOptimization Finished!\nTesting Accuracy: 0.7985\nOptimization Finished!\nTesting Accuracy: 0.7867\nOptimization Finished!\nTesting Accuracy: 0.7815\nOptimization Finished!\nTesting Accuracy: 0.8078\nOptimization Finished!\nTesting Accuracy: 0.8071\nOptimization Finished!\nTesting Accuracy: 0.7992\nOptimization Finished!\nTesting Accuracy: 0.8129\nOptimization Finished!\nTesting Accuracy: 0.8103\nOptimization Finished!\nTesting Accuracy: 0.7929\nOptimization Finished!\nTesting Accuracy: 0.7984\nOptimization Finished!\nTesting Accuracy: 0.8078\nOptimization Finished!\nTesting Accuracy: 0.8177\nOptimization Finished!\nTesting Accuracy: 0.8103\nOptimization Finished!\nTesting Accuracy: 0.7971\nOptimization Finished!\nTesting Accuracy: 0.8041\nOptimization Finished!\nTesting Accuracy: 0.8212\nOptimization Finished!\nTesting Accuracy: 0.8304\nOptimization Finished!\nTesting Accuracy: 0.8282\nOptimization Finished!\nTesting Accuracy: 0.8063\nOptimization Finished!\nTesting Accuracy: 0.7801\nOptimization Finished!\nTesting Accuracy: 0.7758\nOptimization Finished!\nTesting Accuracy: 0.8107\nOptimization Finished!\n",
          "name": "stdout"
        },
        {
          "output_type": "stream",
          "text": "Testing Accuracy: 0.7953\nOptimization Finished!\nTesting Accuracy: 0.7944\nOptimization Finished!\nTesting Accuracy: 0.8014\nOptimization Finished!\nTesting Accuracy: 0.808\nOptimization Finished!\nTesting Accuracy: 0.8057\nOptimization Finished!\nTesting Accuracy: 0.8037\nOptimization Finished!\nTesting Accuracy: 0.8101\nOptimization Finished!\nTesting Accuracy: 0.8124\nOptimization Finished!\nTesting Accuracy: 0.8114\nOptimization Finished!\nTesting Accuracy: 0.814\nOptimization Finished!\nTesting Accuracy: 0.8168\nOptimization Finished!\nTesting Accuracy: 0.8152\nOptimization Finished!\nTesting Accuracy: 0.8199\nOptimization Finished!\nTesting Accuracy: 0.8206\nOptimization Finished!\nTesting Accuracy: 0.8122\nOptimization Finished!\nTesting Accuracy: 0.8012\nOptimization Finished!\nTesting Accuracy: 0.8081\nOptimization Finished!\nTesting Accuracy: 0.8227\nOptimization Finished!\nTesting Accuracy: 0.8128\nOptimization Finished!\nTesting Accuracy: 0.7994\nOptimization Finished!\nTesting Accuracy: 0.7888\nOptimization Finished!\nTesting Accuracy: 0.7881\nOptimization Finished!\nTesting Accuracy: 0.7931\nOptimization Finished!\nTesting Accuracy: 0.7945\nOptimization Finished!\nTesting Accuracy: 0.7911\nOptimization Finished!\nTesting Accuracy: 0.7984\nStep200,Minibatch Loss=0.9207,Training Accuracy=0.805\nOptimization Finished!\nTesting Accuracy: 0.8176\nOptimization Finished!\nTesting Accuracy: 0.8156\nOptimization Finished!\nTesting Accuracy: 0.8094\nOptimization Finished!\nTesting Accuracy: 0.8027\nOptimization Finished!\nTesting Accuracy: 0.8044\nOptimization Finished!\nTesting Accuracy: 0.815\nOptimization Finished!\nTesting Accuracy: 0.8301\nOptimization Finished!\nTesting Accuracy: 0.8266\nOptimization Finished!\nTesting Accuracy: 0.8103\nOptimization Finished!\nTesting Accuracy: 0.8097\nOptimization Finished!\nTesting Accuracy: 0.8243\nOptimization Finished!\nTesting Accuracy: 0.8283\nOptimization Finished!\nTesting Accuracy: 0.8175\nOptimization Finished!\nTesting Accuracy: 0.8218\nOptimization Finished!\nTesting Accuracy: 0.8294\nOptimization Finished!\nTesting Accuracy: 0.8406\nOptimization Finished!\nTesting Accuracy: 0.8434\nOptimization Finished!\nTesting Accuracy: 0.8277\nOptimization Finished!\nTesting Accuracy: 0.8096\nOptimization Finished!\nTesting Accuracy: 0.7975\nOptimization Finished!\nTesting Accuracy: 0.8041\nOptimization Finished!\nTesting Accuracy: 0.8065\nOptimization Finished!\nTesting Accuracy: 0.8036\nOptimization Finished!\nTesting Accuracy: 0.8097\nOptimization Finished!\nTesting Accuracy: 0.8135\nOptimization Finished!\nTesting Accuracy: 0.8278\nOptimization Finished!\nTesting Accuracy: 0.8337\nOptimization Finished!\nTesting Accuracy: 0.83\nOptimization Finished!\nTesting Accuracy: 0.815\nOptimization Finished!\nTesting Accuracy: 0.8115\nOptimization Finished!\nTesting Accuracy: 0.8392\nOptimization Finished!\nTesting Accuracy: 0.8398\nOptimization Finished!\nTesting Accuracy: 0.8325\nOptimization Finished!\nTesting Accuracy: 0.8036\nOptimization Finished!\nTesting Accuracy: 0.79\nOptimization Finished!\nTesting Accuracy: 0.7946\nOptimization Finished!\nTesting Accuracy: 0.8074\nOptimization Finished!\nTesting Accuracy: 0.8125\nOptimization Finished!\nTesting Accuracy: 0.8034\nOptimization Finished!\nTesting Accuracy: 0.8049\nOptimization Finished!\nTesting Accuracy: 0.8165\nOptimization Finished!\nTesting Accuracy: 0.8126\nOptimization Finished!\nTesting Accuracy: 0.8003\nOptimization Finished!\nTesting Accuracy: 0.7955\nOptimization Finished!\nTesting Accuracy: 0.8089\nOptimization Finished!\nTesting Accuracy: 0.8369\nOptimization Finished!\nTesting Accuracy: 0.8472\nOptimization Finished!\nTesting Accuracy: 0.8427\nOptimization Finished!\nTesting Accuracy: 0.8285\nOptimization Finished!\nTesting Accuracy: 0.8235\nOptimization Finished!\nTesting Accuracy: 0.8294\nOptimization Finished!\nTesting Accuracy: 0.8186\nOptimization Finished!\nTesting Accuracy: 0.8136\nOptimization Finished!\nTesting Accuracy: 0.8177\nOptimization Finished!\nTesting Accuracy: 0.8303\nOptimization Finished!\nTesting Accuracy: 0.8376\nOptimization Finished!\nTesting Accuracy: 0.8358\nOptimization Finished!\nTesting Accuracy: 0.8331\nOptimization Finished!\nTesting Accuracy: 0.8352\nOptimization Finished!\nTesting Accuracy: 0.8325\nOptimization Finished!\nTesting Accuracy: 0.8274\nOptimization Finished!\nTesting Accuracy: 0.8233\nOptimization Finished!\nTesting Accuracy: 0.8326\nOptimization Finished!\nTesting Accuracy: 0.8429\nOptimization Finished!\nTesting Accuracy: 0.8441\nOptimization Finished!\nTesting Accuracy: 0.8422\nOptimization Finished!\nTesting Accuracy: 0.8363\nOptimization Finished!\nTesting Accuracy: 0.8382\nOptimization Finished!\nTesting Accuracy: 0.8452\nOptimization Finished!\nTesting Accuracy: 0.844\nOptimization Finished!\nTesting Accuracy: 0.8417\nOptimization Finished!\nTesting Accuracy: 0.8514\nOptimization Finished!\nTesting Accuracy: 0.8484\nOptimization Finished!\nTesting Accuracy: 0.8416\nOptimization Finished!\nTesting Accuracy: 0.8397\nOptimization Finished!\nTesting Accuracy: 0.8389\nOptimization Finished!\nTesting Accuracy: 0.841\nOptimization Finished!\nTesting Accuracy: 0.8433\nOptimization Finished!\nTesting Accuracy: 0.843\nOptimization Finished!\nTesting Accuracy: 0.8432\nOptimization Finished!\nTesting Accuracy: 0.8402\nOptimization Finished!\nTesting Accuracy: 0.8369\nOptimization Finished!\nTesting Accuracy: 0.8399\nOptimization Finished!\nTesting Accuracy: 0.8382\nOptimization Finished!\nTesting Accuracy: 0.8337\nOptimization Finished!\nTesting Accuracy: 0.827\nOptimization Finished!\nTesting Accuracy: 0.8209\nOptimization Finished!\nTesting Accuracy: 0.8242\nOptimization Finished!\nTesting Accuracy: 0.834\nOptimization Finished!\nTesting Accuracy: 0.8365\nOptimization Finished!\nTesting Accuracy: 0.8382\nOptimization Finished!\nTesting Accuracy: 0.8362\nOptimization Finished!\nTesting Accuracy: 0.8338\nOptimization Finished!\nTesting Accuracy: 0.8336\nOptimization Finished!\nTesting Accuracy: 0.8368\nOptimization Finished!\nTesting Accuracy: 0.8427\nOptimization Finished!\nTesting Accuracy: 0.85\nOptimization Finished!\nTesting Accuracy: 0.8517\nOptimization Finished!\nTesting Accuracy: 0.8477\nOptimization Finished!\nTesting Accuracy: 0.8412\nStep300,Minibatch Loss=0.4524,Training Accuracy=0.836\nOptimization Finished!\nTesting Accuracy: 0.8409\nOptimization Finished!\nTesting Accuracy: 0.8506\nOptimization Finished!\nTesting Accuracy: 0.8513\nOptimization Finished!\nTesting Accuracy: 0.8188\nOptimization Finished!\nTesting Accuracy: 0.8025\nOptimization Finished!\nTesting Accuracy: 0.8245\nOptimization Finished!\nTesting Accuracy: 0.8289\nOptimization Finished!\nTesting Accuracy: 0.7944\nOptimization Finished!\nTesting Accuracy: 0.8129\nOptimization Finished!\nTesting Accuracy: 0.8404\nOptimization Finished!\nTesting Accuracy: 0.8477\nOptimization Finished!\nTesting Accuracy: 0.8456\nOptimization Finished!\nTesting Accuracy: 0.8397\nOptimization Finished!\nTesting Accuracy: 0.8431\nOptimization Finished!\nTesting Accuracy: 0.8488\nOptimization Finished!\nTesting Accuracy: 0.8522\nOptimization Finished!\nTesting Accuracy: 0.8455\nOptimization Finished!\nTesting Accuracy: 0.8277\nOptimization Finished!\nTesting Accuracy: 0.8297\nOptimization Finished!\nTesting Accuracy: 0.8409\nOptimization Finished!\nTesting Accuracy: 0.8531\nOptimization Finished!\nTesting Accuracy: 0.8374\nOptimization Finished!\nTesting Accuracy: 0.8165\nOptimization Finished!\nTesting Accuracy: 0.8177\nOptimization Finished!\nTesting Accuracy: 0.8445\nOptimization Finished!\nTesting Accuracy: 0.8457\nOptimization Finished!\nTesting Accuracy: 0.836\nOptimization Finished!\nTesting Accuracy: 0.8273\nOptimization Finished!\nTesting Accuracy: 0.8194\nOptimization Finished!\nTesting Accuracy: 0.8169\nOptimization Finished!\nTesting Accuracy: 0.8291\nOptimization Finished!\nTesting Accuracy: 0.8209\nOptimization Finished!\nTesting Accuracy: 0.8245\nOptimization Finished!\nTesting Accuracy: 0.8356\nOptimization Finished!\nTesting Accuracy: 0.8493\nOptimization Finished!\nTesting Accuracy: 0.8544\nOptimization Finished!\nTesting Accuracy: 0.8595\nOptimization Finished!\nTesting Accuracy: 0.8547\nOptimization Finished!\nTesting Accuracy: 0.8451\nOptimization Finished!\nTesting Accuracy: 0.855\nOptimization Finished!\nTesting Accuracy: 0.8638\nOptimization Finished!\nTesting Accuracy: 0.8657\nOptimization Finished!\nTesting Accuracy: 0.8655\nOptimization Finished!\nTesting Accuracy: 0.8641\nOptimization Finished!\nTesting Accuracy: 0.8576\nOptimization Finished!\nTesting Accuracy: 0.8555\nOptimization Finished!\nTesting Accuracy: 0.8588\nOptimization Finished!\nTesting Accuracy: 0.8619\nOptimization Finished!\nTesting Accuracy: 0.8601\nOptimization Finished!\nTesting Accuracy: 0.8525\n",
          "name": "stdout"
        },
        {
          "output_type": "stream",
          "text": "Optimization Finished!\nTesting Accuracy: 0.8497\nOptimization Finished!\nTesting Accuracy: 0.8517\nOptimization Finished!\nTesting Accuracy: 0.8588\nOptimization Finished!\nTesting Accuracy: 0.8541\nOptimization Finished!\nTesting Accuracy: 0.8505\nOptimization Finished!\nTesting Accuracy: 0.8482\nOptimization Finished!\nTesting Accuracy: 0.8476\nOptimization Finished!\nTesting Accuracy: 0.8545\nOptimization Finished!\nTesting Accuracy: 0.8584\nOptimization Finished!\nTesting Accuracy: 0.8634\nOptimization Finished!\nTesting Accuracy: 0.867\nOptimization Finished!\nTesting Accuracy: 0.8641\nOptimization Finished!\nTesting Accuracy: 0.8587\nOptimization Finished!\nTesting Accuracy: 0.863\nOptimization Finished!\nTesting Accuracy: 0.8624\nOptimization Finished!\nTesting Accuracy: 0.8554\nOptimization Finished!\nTesting Accuracy: 0.8435\nOptimization Finished!\nTesting Accuracy: 0.8328\nOptimization Finished!\nTesting Accuracy: 0.8332\nOptimization Finished!\nTesting Accuracy: 0.8508\nOptimization Finished!\nTesting Accuracy: 0.8665\nOptimization Finished!\nTesting Accuracy: 0.8694\nOptimization Finished!\nTesting Accuracy: 0.8579\nOptimization Finished!\nTesting Accuracy: 0.8469\nOptimization Finished!\nTesting Accuracy: 0.8404\nOptimization Finished!\nTesting Accuracy: 0.8486\nOptimization Finished!\nTesting Accuracy: 0.8555\nOptimization Finished!\nTesting Accuracy: 0.855\nOptimization Finished!\nTesting Accuracy: 0.8579\nOptimization Finished!\nTesting Accuracy: 0.8583\nOptimization Finished!\nTesting Accuracy: 0.8569\nOptimization Finished!\nTesting Accuracy: 0.8531\nOptimization Finished!\nTesting Accuracy: 0.8492\nOptimization Finished!\nTesting Accuracy: 0.8553\nOptimization Finished!\nTesting Accuracy: 0.8668\nOptimization Finished!\nTesting Accuracy: 0.861\nOptimization Finished!\nTesting Accuracy: 0.8555\nOptimization Finished!\nTesting Accuracy: 0.8562\nOptimization Finished!\nTesting Accuracy: 0.8626\nOptimization Finished!\nTesting Accuracy: 0.8526\nOptimization Finished!\nTesting Accuracy: 0.8469\nOptimization Finished!\nTesting Accuracy: 0.8504\nOptimization Finished!\nTesting Accuracy: 0.8624\nOptimization Finished!\nTesting Accuracy: 0.8736\nOptimization Finished!\nTesting Accuracy: 0.8649\nOptimization Finished!\nTesting Accuracy: 0.8594\nOptimization Finished!\nTesting Accuracy: 0.8512\nOptimization Finished!\nTesting Accuracy: 0.8455\nOptimization Finished!\nTesting Accuracy: 0.8481\nOptimization Finished!\nTesting Accuracy: 0.8597\nStep400,Minibatch Loss=0.4224,Training Accuracy=0.844\nOptimization Finished!\nTesting Accuracy: 0.8691\nOptimization Finished!\nTesting Accuracy: 0.8721\nOptimization Finished!\nTesting Accuracy: 0.8708\nOptimization Finished!\nTesting Accuracy: 0.8671\nOptimization Finished!\nTesting Accuracy: 0.8672\nOptimization Finished!\nTesting Accuracy: 0.8669\nOptimization Finished!\nTesting Accuracy: 0.8672\nOptimization Finished!\nTesting Accuracy: 0.8707\nOptimization Finished!\nTesting Accuracy: 0.8711\nOptimization Finished!\nTesting Accuracy: 0.8697\nOptimization Finished!\nTesting Accuracy: 0.8672\nOptimization Finished!\nTesting Accuracy: 0.8667\nOptimization Finished!\nTesting Accuracy: 0.8626\nOptimization Finished!\nTesting Accuracy: 0.8586\nOptimization Finished!\nTesting Accuracy: 0.8606\nOptimization Finished!\nTesting Accuracy: 0.8662\nOptimization Finished!\nTesting Accuracy: 0.8652\nOptimization Finished!\nTesting Accuracy: 0.8642\nOptimization Finished!\nTesting Accuracy: 0.8643\nOptimization Finished!\nTesting Accuracy: 0.8705\nOptimization Finished!\nTesting Accuracy: 0.8721\nOptimization Finished!\nTesting Accuracy: 0.8714\nOptimization Finished!\nTesting Accuracy: 0.8665\nOptimization Finished!\nTesting Accuracy: 0.8597\nOptimization Finished!\nTesting Accuracy: 0.8534\nOptimization Finished!\nTesting Accuracy: 0.8515\nOptimization Finished!\nTesting Accuracy: 0.8633\nOptimization Finished!\nTesting Accuracy: 0.8599\nOptimization Finished!\nTesting Accuracy: 0.8472\nOptimization Finished!\nTesting Accuracy: 0.8423\nOptimization Finished!\nTesting Accuracy: 0.8493\nOptimization Finished!\nTesting Accuracy: 0.8582\nOptimization Finished!\nTesting Accuracy: 0.8647\nOptimization Finished!\nTesting Accuracy: 0.8635\nOptimization Finished!\nTesting Accuracy: 0.8601\nOptimization Finished!\nTesting Accuracy: 0.8549\nOptimization Finished!\nTesting Accuracy: 0.8553\nOptimization Finished!\nTesting Accuracy: 0.8565\nOptimization Finished!\nTesting Accuracy: 0.8589\nOptimization Finished!\nTesting Accuracy: 0.8657\nOptimization Finished!\nTesting Accuracy: 0.8695\nOptimization Finished!\nTesting Accuracy: 0.8656\nOptimization Finished!\nTesting Accuracy: 0.8574\nOptimization Finished!\nTesting Accuracy: 0.8544\nOptimization Finished!\nTesting Accuracy: 0.8553\nOptimization Finished!\nTesting Accuracy: 0.8592\nOptimization Finished!\nTesting Accuracy: 0.8663\nOptimization Finished!\nTesting Accuracy: 0.8776\nOptimization Finished!\nTesting Accuracy: 0.8767\nOptimization Finished!\nTesting Accuracy: 0.8694\nOptimization Finished!\nTesting Accuracy: 0.871\nOptimization Finished!\nTesting Accuracy: 0.8726\nOptimization Finished!\nTesting Accuracy: 0.8727\nOptimization Finished!\nTesting Accuracy: 0.8779\nOptimization Finished!\nTesting Accuracy: 0.8793\nOptimization Finished!\nTesting Accuracy: 0.8733\nOptimization Finished!\nTesting Accuracy: 0.8703\nOptimization Finished!\nTesting Accuracy: 0.8698\nOptimization Finished!\nTesting Accuracy: 0.8666\nOptimization Finished!\nTesting Accuracy: 0.8636\nOptimization Finished!\nTesting Accuracy: 0.863\nOptimization Finished!\nTesting Accuracy: 0.8664\nOptimization Finished!\nTesting Accuracy: 0.8686\nOptimization Finished!\nTesting Accuracy: 0.8646\nOptimization Finished!\nTesting Accuracy: 0.8622\nOptimization Finished!\nTesting Accuracy: 0.8632\nOptimization Finished!\nTesting Accuracy: 0.8617\nOptimization Finished!\nTesting Accuracy: 0.8661\nOptimization Finished!\nTesting Accuracy: 0.8702\nOptimization Finished!\nTesting Accuracy: 0.8657\nOptimization Finished!\nTesting Accuracy: 0.8632\nOptimization Finished!\nTesting Accuracy: 0.8644\nOptimization Finished!\nTesting Accuracy: 0.8711\nOptimization Finished!\nTesting Accuracy: 0.8735\nOptimization Finished!\nTesting Accuracy: 0.8684\nOptimization Finished!\nTesting Accuracy: 0.8672\nOptimization Finished!\nTesting Accuracy: 0.8682\nOptimization Finished!\nTesting Accuracy: 0.8769\nOptimization Finished!\nTesting Accuracy: 0.8815\nOptimization Finished!\nTesting Accuracy: 0.8817\nOptimization Finished!\nTesting Accuracy: 0.877\nOptimization Finished!\nTesting Accuracy: 0.8713\nOptimization Finished!\nTesting Accuracy: 0.8682\nOptimization Finished!\nTesting Accuracy: 0.8714\nOptimization Finished!\nTesting Accuracy: 0.8749\nOptimization Finished!\nTesting Accuracy: 0.8697\nOptimization Finished!\nTesting Accuracy: 0.8632\nOptimization Finished!\nTesting Accuracy: 0.866\nOptimization Finished!\nTesting Accuracy: 0.8703\nOptimization Finished!\nTesting Accuracy: 0.8738\nOptimization Finished!\nTesting Accuracy: 0.869\nOptimization Finished!\nTesting Accuracy: 0.8667\nOptimization Finished!\nTesting Accuracy: 0.8671\nOptimization Finished!\nTesting Accuracy: 0.8683\nOptimization Finished!\nTesting Accuracy: 0.8673\nOptimization Finished!\nTesting Accuracy: 0.8677\nOptimization Finished!\nTesting Accuracy: 0.8676\nOptimization Finished!\nTesting Accuracy: 0.8705\nOptimization Finished!\nTesting Accuracy: 0.8742\nOptimization Finished!\nTesting Accuracy: 0.8786\nStep500,Minibatch Loss=0.3762,Training Accuracy=0.898\nOptimization Finished!\nTesting Accuracy: 0.8794\n",
          "name": "stdout"
        }
      ]
    },
    {
      "metadata": {
        "trusted": true
      },
      "cell_type": "code",
      "source": "",
      "execution_count": null,
      "outputs": []
    },
    {
      "metadata": {
        "trusted": true
      },
      "cell_type": "code",
      "source": "",
      "execution_count": null,
      "outputs": []
    },
    {
      "metadata": {
        "trusted": true
      },
      "cell_type": "code",
      "source": "",
      "execution_count": null,
      "outputs": []
    },
    {
      "metadata": {
        "trusted": true
      },
      "cell_type": "code",
      "source": "",
      "execution_count": null,
      "outputs": []
    }
  ],
  "metadata": {
    "kernelspec": {
      "name": "python36",
      "display_name": "Python 3.6",
      "language": "python"
    },
    "language_info": {
      "mimetype": "text/x-python",
      "nbconvert_exporter": "python",
      "name": "python",
      "pygments_lexer": "ipython3",
      "version": "3.6.6",
      "file_extension": ".py",
      "codemirror_mode": {
        "version": 3,
        "name": "ipython"
      }
    }
  },
  "nbformat": 4,
  "nbformat_minor": 2
}